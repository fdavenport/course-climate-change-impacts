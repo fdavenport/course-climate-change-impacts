{
  "nbformat": 4,
  "nbformat_minor": 0,
  "metadata": {
    "colab": {
      "provenance": [],
      "include_colab_link": true
    },
    "kernelspec": {
      "name": "python3",
      "display_name": "Python 3"
    },
    "language_info": {
      "name": "python"
    }
  },
  "cells": [
    {
      "cell_type": "markdown",
      "metadata": {
        "id": "view-in-github",
        "colab_type": "text"
      },
      "source": [
        "<a href=\"https://colab.research.google.com/github/fdavenport/CIVE480A6-climate-change-impacts/blob/main/lectures/08_Climate_Change_Assessment_Arkansas_River.ipynb\" target=\"_parent\"><img src=\"https://colab.research.google.com/assets/colab-badge.svg\" alt=\"Open In Colab\"/></a>"
      ]
    },
    {
      "cell_type": "markdown",
      "source": [
        "# CIVE 480A6: Climate Change Risks and Impacts\n",
        "## Week 13: Climate Change Impact Assessment for Arkansas River Stream Temperature\n",
        "\n",
        "This week's objectives:\n",
        "1. Analyze the relationship between stream temperature extremes and air temperature in the Arkansas River near Canon City, CO.\n",
        "2. Analyze downscaled climate projections from the NASA Earth Exchange Global Daily Downscaled Projections (NEX-GDDP-CMIP6) dataset.\n",
        "3. Use the \"delta\" change bias correction method to calculate the future temperature changes for the Arkansas River basin upstream of Canon City, CO.  \n"
      ],
      "metadata": {
        "id": "KL6cB450IQbk"
      }
    },
    {
      "cell_type": "markdown",
      "source": [
        "## Part 1: Finding the relationship between stream temperature and air temperature\n",
        "\n",
        "Stream temperature is an important indicator of water quality and of the health of aquatic ecosystems. According to the [EPA](https://www.epa.gov/climate-indicators/climate-change-indicators-stream-temperature), \"higher temperatures reduce levels of dissolved oxygen in the water, which can negatively affect the growth and productivity of aquatic life. Persistently warmer temperatures in streams can accelerate natural chemical reactions and release excess nutrients into the water.\"\n",
        "\n",
        "Despite the fact that stream temperature is a very important quantity to consider, we don't have readily available future projections of stream temperature. Instead, we will look at how stream temperature relates to air temperature. Then we will be able to draw some conclusions about how stream temperature will be affected by climate change in the future.\n"
      ],
      "metadata": {
        "id": "A7uC6PcAJG8Z"
      }
    },
    {
      "cell_type": "markdown",
      "source": [
        "For this assignment, we will analyze stream temperature data from [USGS streamgage 07096000 on the Arkansas River near Canon City, CO](https://waterdata.usgs.gov/nwis/uv?site_no=07096000&legacy=1)."
      ],
      "metadata": {
        "id": "Gmd1FbNpJqOb"
      }
    },
    {
      "cell_type": "code",
      "source": [
        "import pandas as pd"
      ],
      "metadata": {
        "id": "eVIABFr6RiUv"
      },
      "execution_count": null,
      "outputs": []
    },
    {
      "cell_type": "code",
      "source": [
        "## load stream temperature data\n",
        "\n",
        "water_temp_url = \"https://raw.githubusercontent.com/fdavenport/CIVE480A6-climate-change-impacts/refs/heads/main/lectures/data/usgs07096000_arkansas_river_canon_city.csv\"\n",
        "\n",
        "water_temp = pd.read_csv(water_temp_url)\n",
        "\n",
        "# convert time column to datetime format\n",
        "water_temp[\"time\"] = pd.to_datetime(water_temp[\"time\"])"
      ],
      "metadata": {
        "id": "Ys-ShpXvLfFY"
      },
      "execution_count": null,
      "outputs": []
    },
    {
      "cell_type": "markdown",
      "source": [
        "**1a) Discussion:** What time period does the water temperature data cover?"
      ],
      "metadata": {
        "id": "1yADu0yhM2XY"
      }
    },
    {
      "cell_type": "markdown",
      "source": [
        "*add answer here*"
      ],
      "metadata": {
        "id": "jIoiEOIjNNXq"
      }
    },
    {
      "cell_type": "markdown",
      "source": [
        "**1b) Discussion:** What was the maximum water temperature measured?  "
      ],
      "metadata": {
        "id": "c6PmU6NoNNsF"
      }
    },
    {
      "cell_type": "code",
      "source": [
        "# add code here"
      ],
      "metadata": {
        "id": "jdibIWgeNS3K"
      },
      "execution_count": null,
      "outputs": []
    },
    {
      "cell_type": "markdown",
      "source": [
        "In addition to the streamflow data, we will analyze air temperature and conditions in the watershed upstream. We will use a new library called **geopandas** to load the watershed boundary file:"
      ],
      "metadata": {
        "id": "i88JnQyOJ-Id"
      }
    },
    {
      "cell_type": "code",
      "source": [
        "import geopandas as gpd"
      ],
      "metadata": {
        "id": "Oj8w6GAqKJvb"
      },
      "execution_count": null,
      "outputs": []
    },
    {
      "cell_type": "code",
      "source": [
        "watershed_url = \"https://raw.githubusercontent.com/fdavenport/CIVE480A6-climate-change-impacts/refs/heads/main/lectures/data/usgs_07096000_watershed.shp\"\n",
        "\n",
        "watershed = gpd.read_file(watershed_url)"
      ],
      "metadata": {
        "id": "HfGBNmicLwyE"
      },
      "execution_count": null,
      "outputs": []
    },
    {
      "cell_type": "markdown",
      "source": [
        "Next we need to load historical temperature data from the PRISM dataset (which we have used in previous lectures and homeworks)."
      ],
      "metadata": {
        "id": "Z-ufwzFVMaJt"
      }
    },
    {
      "cell_type": "markdown",
      "source": [
        "**1c)** Read in the prism air temperature and precipitation data:"
      ],
      "metadata": {
        "id": "WpCL15jmNlCK"
      }
    },
    {
      "cell_type": "code",
      "source": [
        "!pip install cftime\n",
        "import cftime\n",
        "\n",
        "import xarray as xr"
      ],
      "metadata": {
        "id": "0JJKO_3mSGB2"
      },
      "execution_count": null,
      "outputs": []
    },
    {
      "cell_type": "code",
      "source": [
        "prism_temp_url = \"https://raw.githubusercontent.com/fdavenport/CIVE480A6-climate-change-impacts/main/lectures/data/PRISM_CO_monthly_temp_1994_2023.nc\"\n",
        "\n",
        "!wget {prism_temp_url} -O PRISM_CO_monthly_temp_1994_2023.nc"
      ],
      "metadata": {
        "id": "_v8s4BgeMnOE"
      },
      "execution_count": null,
      "outputs": []
    },
    {
      "cell_type": "code",
      "source": [
        "## read in data\n",
        "prism_temp = xr.open_dataset(\"PRISM_CO_monthly_temp_1994_2023.nc\")\n"
      ],
      "metadata": {
        "id": "g1z9YF5HMrsq"
      },
      "execution_count": null,
      "outputs": []
    },
    {
      "cell_type": "markdown",
      "source": [
        "**1d)** Make a map of the air temperature in June 2014. Add the watershed boundary (some example code is given)."
      ],
      "metadata": {
        "id": "aVq4js8DNe5g"
      }
    },
    {
      "cell_type": "code",
      "source": [
        "import matplotlib.pyplot as plt"
      ],
      "metadata": {
        "id": "dJY05MIEN4y4"
      },
      "execution_count": null,
      "outputs": []
    },
    {
      "cell_type": "code",
      "source": [
        "fig, ax = plt.subplots()\n",
        "\n",
        "# add code here\n",
        "# hint: the code to make a map looks like this:\n",
        "# temp = ax.pcolormesh(lon_info, lat_info, variable_info, cmap = \"colormap of your choosing\")\n",
        "# plt.colorbar(temp, label = \"label text\")\n",
        "\n",
        "\n",
        "## add watershed boundary\n",
        "watershed.boundary.plot(ax = ax, edgecolor = \"black\")\n"
      ],
      "metadata": {
        "id": "0Ka6unGYN3zz"
      },
      "execution_count": null,
      "outputs": []
    },
    {
      "cell_type": "markdown",
      "source": [
        "The air temperature data that we just loaded is for the entire state of Colorado. However, we are only interested in the data for the Arkansas River watershed upstream of the streamgage location. We need to \"clip\" the data so that only information inside the watershed is included."
      ],
      "metadata": {
        "id": "1OKQbs1OPPLg"
      }
    },
    {
      "cell_type": "markdown",
      "source": [
        "**1e)** Clip the air temperature data so that only information inside the watershed is included (example code provided). Make a plot of the clipped data for June 2014."
      ],
      "metadata": {
        "id": "8chxxyBkO_NM"
      }
    },
    {
      "cell_type": "code",
      "source": [
        "!pip install rioxarray\n",
        "import rioxarray"
      ],
      "metadata": {
        "collapsed": true,
        "id": "Rooq81nP6xk7"
      },
      "execution_count": null,
      "outputs": []
    },
    {
      "cell_type": "code",
      "source": [
        "# clip temperature data\n",
        "\n",
        "## add geographic location information\n",
        "prism_temp = prism_temp.rename({\"lon\":\"longitude\", \"lat\":\"latitude\"})\n",
        "prism_temp.rio.write_crs(\"EPSG:4269\", inplace=True)\n",
        "\n",
        "# clip to basin geometry\n",
        "prism_temp = prism_temp.rio.clip(watershed.geometry)"
      ],
      "metadata": {
        "id": "zLaT_96UPxrZ"
      },
      "execution_count": null,
      "outputs": []
    },
    {
      "cell_type": "code",
      "source": [
        "fig, ax = plt.subplots()\n",
        "\n",
        "# make a map of the clipped data\n",
        "\n",
        "\n",
        "# remember to label your figure!"
      ],
      "metadata": {
        "id": "KiS9Fbm0P6EX"
      },
      "execution_count": null,
      "outputs": []
    },
    {
      "cell_type": "markdown",
      "source": [
        "Now that we've clipped the data for the Arkansas River Watershed, we will calculate the average summer air temperature. To simplify things, this code has already been written for you:"
      ],
      "metadata": {
        "id": "ealOBID6OIkM"
      }
    },
    {
      "cell_type": "code",
      "source": [
        "## calculate average summer air temperature for each year\n",
        "\n",
        "## select summer months\n",
        "summer_temp = prism_temp.where(prism_temp.time.dt.month.isin([5, 6, 7, 8]))\n",
        "\n",
        "# calculate summer average\n",
        "summer_temp = summer_temp.groupby(summer_temp.time.dt.year).mean(dim = [\"time\", \"latitude\", \"longitude\"])\n"
      ],
      "metadata": {
        "id": "Vr-9HoynOimr"
      },
      "execution_count": null,
      "outputs": []
    },
    {
      "cell_type": "markdown",
      "source": [
        "**1f)** What months were used to calculate the summer air temperature?"
      ],
      "metadata": {
        "id": "wECnhI925G4R"
      }
    },
    {
      "cell_type": "markdown",
      "source": [
        "*add answer here*"
      ],
      "metadata": {
        "id": "9VjRSV1Q5L4f"
      }
    },
    {
      "cell_type": "markdown",
      "source": [
        "We will also calculate the number of days each year where the maximum water temperature exceeds 72F. While there is no universal threshold for stream temperature impacts, many Colorado fish species will begin to experience additional stress above ~70F. To simplify things, this code has already been written for you."
      ],
      "metadata": {
        "id": "Kl2m2Kx5Xyvz"
      }
    },
    {
      "cell_type": "code",
      "source": [
        "## add a water year variable to dataframe\n",
        "water_temp[\"wateryear\"] = np.where(water_temp.time.dt.month >=10, water_temp.time.dt.year+1, watertemp.time.dt.year)\n",
        "\n",
        "## calculate number of days with max temp > 72F each water year\n",
        "days_above_72F = pd.DataFrame(water_temp.groupby('wateryear')[\"maxT_degF\"].apply(lambda x: (x > 72).sum()))\n"
      ],
      "metadata": {
        "id": "0eYI2a0fcpiR"
      },
      "execution_count": null,
      "outputs": []
    },
    {
      "cell_type": "markdown",
      "source": [
        "**1g)** Make a plot of the number of days with max stremp temperature above 72F vs. summer air temperature:"
      ],
      "metadata": {
        "id": "eO4Mh8ZdPB4F"
      }
    },
    {
      "cell_type": "code",
      "source": [
        "fig, ax = plt.subplots()\n",
        "\n",
        "\n",
        "\n",
        "\n",
        "## remember to label your plot!"
      ],
      "metadata": {
        "id": "UGgL1eNrPCmI"
      },
      "execution_count": null,
      "outputs": []
    },
    {
      "cell_type": "markdown",
      "source": [
        "**1h) Discussion**: describe the relationship between stream temperature and summer air temperature based off of your graph."
      ],
      "metadata": {
        "id": "jT0FZ0XAQqIR"
      }
    },
    {
      "cell_type": "markdown",
      "source": [
        "*add answer here*"
      ],
      "metadata": {
        "id": "rFFDpLsCQxbG"
      }
    },
    {
      "cell_type": "markdown",
      "source": [
        "## **STOP**. Wait here and raise your hand to let me know you are at this point."
      ],
      "metadata": {
        "id": "ILgOMj4ES59G"
      }
    },
    {
      "cell_type": "markdown",
      "source": [
        "## Part 2: Analyzing Downscaled Climate Projections\n",
        "\n",
        "In Part 1, we saw that there is a clear relationship between stream temperature and air temperature. In this section, we will analyze future projections of air temperature and precipitation from the NASA Global Daily Downscaled Projections (NEX-GDDP-CMIP6) dataset. This dataset uses statistical downscaling to create higher resolution climate projections from the same climate modeling simulations we've already analyzed.\n",
        "\n",
        "The downscaled data associated with the CESM2 climate model projections has been uploaded to the github site. We will analyze one future climate change scenario that has \"moderate\" emissions over the next 30 years (ssp 370). The data from the historical climate model simulation and the future simulation have been combined into the same file."
      ],
      "metadata": {
        "id": "Lz8AtjaGxtM_"
      }
    },
    {
      "cell_type": "markdown",
      "source": [
        "**2a)** Download and read in the air temperature data from the downscaled climate model simulations:"
      ],
      "metadata": {
        "id": "uNEEYEEnRm7L"
      }
    },
    {
      "cell_type": "code",
      "source": [
        "nex_gddp_url = \"https://raw.githubusercontent.com/fdavenport/CIVE480A6-climate-change-impacts/main/lectures/data/NEX-GDDP-CMIP6_CESM2_r4i1p1f1_historical_ssp370_tas.nc\"\n",
        "\n",
        "!wget {nex_gddp_url} -O NEX-GDDP-CMIP6_CESM2_r4i1p1f1_historical_ssp370_tas.nc"
      ],
      "metadata": {
        "id": "eRdj6zfYSAZm"
      },
      "execution_count": null,
      "outputs": []
    },
    {
      "cell_type": "code",
      "source": [
        "## read in the data\n",
        "\n",
        "climate_model_temp = xr.open_dataset(\"NEX-GDDP-CMIP6_CESM2_r4i1p1f1_historical_ssp370_tas.nc\")\n"
      ],
      "metadata": {
        "id": "AKATYAHTSBZC"
      },
      "execution_count": null,
      "outputs": []
    },
    {
      "cell_type": "markdown",
      "source": [
        "**2b) Discussion:** What is the spatial resolution of the downscaled climate model data?"
      ],
      "metadata": {
        "id": "WMpSpxAXUtZF"
      }
    },
    {
      "cell_type": "markdown",
      "source": [
        "*add answer here*"
      ],
      "metadata": {
        "id": "O5mpWR3GUyJI"
      }
    },
    {
      "cell_type": "markdown",
      "source": [
        "**2c**) Make a plot of the downscaled temperature data for June 2014.  "
      ],
      "metadata": {
        "id": "YzX1gFFPSZcc"
      }
    },
    {
      "cell_type": "code",
      "source": [
        "fig, ax = plt.subplots()\n",
        "\n",
        "# add code here\n"
      ],
      "metadata": {
        "id": "8yyQKjjpTM5_"
      },
      "execution_count": null,
      "outputs": []
    },
    {
      "cell_type": "markdown",
      "source": [
        "**2d)** Clip the climate model air temperature data to the boundary of the Arkansas River watershed (same steps as above)."
      ],
      "metadata": {
        "id": "wxsMeMBcTOrV"
      }
    },
    {
      "cell_type": "code",
      "source": [
        "# add code here\n",
        "\n"
      ],
      "metadata": {
        "id": "5gdRAJ8-TbDy"
      },
      "execution_count": null,
      "outputs": []
    },
    {
      "cell_type": "markdown",
      "source": [
        "**2e)** Calculate the summer air temperature for each year (use same code as above):"
      ],
      "metadata": {
        "id": "FHhkq-VdTc6-"
      }
    },
    {
      "cell_type": "code",
      "source": [
        "## add code here\n",
        "\n"
      ],
      "metadata": {
        "id": "hbO0nBXcTis0"
      },
      "execution_count": null,
      "outputs": []
    },
    {
      "cell_type": "markdown",
      "source": [
        "**2f)** Make a time series graphs of summer air temperature for the Arkansas River Watershed:"
      ],
      "metadata": {
        "id": "qHH8xRHPUajU"
      }
    },
    {
      "cell_type": "code",
      "source": [
        "fig, axes = plt.subplots()\n",
        "\n",
        "# add code here\n",
        "\n"
      ],
      "metadata": {
        "id": "yO90-HX0Ui3q"
      },
      "execution_count": null,
      "outputs": []
    },
    {
      "cell_type": "markdown",
      "source": [
        "## **STOP**. Wait here and raise your hand to let me know you are at this point."
      ],
      "metadata": {
        "id": "y0ilewD9S-_6"
      }
    },
    {
      "cell_type": "markdown",
      "source": [
        "## Part 3: Calculating Future Temperature \"Delta\" for the Arkansas River"
      ],
      "metadata": {
        "id": "ija4T6FmMHfU"
      }
    },
    {
      "cell_type": "markdown",
      "source": [
        "Even though we are using downscaled climate model data that is higher resolution than the original climate model projections, we still need to account for model bias (aka model error).\n",
        "\n",
        "We will do this by using the \"delta\" change method. More specifically, we will calculate the change in summer air temperature for the next 30 years according to the climate models."
      ],
      "metadata": {
        "id": "IvZx5gghUrEU"
      }
    },
    {
      "cell_type": "markdown",
      "source": [
        "**3a)** Calculate the average summer air temperature from 1994-2024 and for 2025-2055."
      ],
      "metadata": {
        "id": "Y_mys-NcT_DU"
      }
    },
    {
      "cell_type": "code",
      "source": [
        "## add code here\n",
        "\n",
        "\n"
      ],
      "metadata": {
        "id": "_lNMw-xmVe20"
      },
      "execution_count": null,
      "outputs": []
    },
    {
      "cell_type": "markdown",
      "source": [
        "**3b)** What is the change in average summer air temperature between the two periods?"
      ],
      "metadata": {
        "id": "WmM19g-vTB44"
      }
    },
    {
      "cell_type": "code",
      "source": [
        "# add code here\n",
        "\n"
      ],
      "metadata": {
        "id": "vjjz5ZWNVnNv"
      },
      "execution_count": null,
      "outputs": []
    },
    {
      "cell_type": "markdown",
      "source": [
        "### **STOP**. Wait here and raise your hand to let me know you are at this point."
      ],
      "metadata": {
        "id": "z0e3a_xhTAh9"
      }
    },
    {
      "cell_type": "markdown",
      "source": [
        "## Part 4: Assessing Impacts on Stream Temperature"
      ],
      "metadata": {
        "id": "t3rFoXliMOwv"
      }
    },
    {
      "cell_type": "markdown",
      "source": [
        "In this section, we will try to draw some conclusions about how increases in air temperature will affect stream temperature in the Arkansas River.\n"
      ],
      "metadata": {
        "id": "nKsEOalQWH5Y"
      }
    },
    {
      "cell_type": "markdown",
      "source": [
        "**4a)** Add the \"delta\" that you calculated in part 3 to the prism summer temperature data to calculate an estimate of future Arkansas River air temperature."
      ],
      "metadata": {
        "id": "Mynz_86HWFNq"
      }
    },
    {
      "cell_type": "code",
      "source": [
        "## add code here\n",
        "\n"
      ],
      "metadata": {
        "id": "sWbxuEI2WGSJ"
      },
      "execution_count": null,
      "outputs": []
    },
    {
      "cell_type": "markdown",
      "source": [
        "From the graphs in 1f, we see that days with stream temperatures above 72F become more likely when the summer air temperature is above ~13C. And, if the summer air temperature is above ~14C, the number of 72-degree water temperature days is even higher. This result suggests that average summer temperatures above 13C and 14C would indicate worsening stream temperature."
      ],
      "metadata": {
        "id": "ErFYm0Q2a_Mr"
      }
    },
    {
      "cell_type": "markdown",
      "source": [
        "**4b)** In the \"future prism data\", calculate the number of years with average summer temperatures exceeding 13C."
      ],
      "metadata": {
        "id": "Iu79etF4ZshO"
      }
    },
    {
      "cell_type": "code",
      "source": [
        "# add code here\n",
        "\n"
      ],
      "metadata": {
        "id": "fAnnpwB4aBrI"
      },
      "execution_count": null,
      "outputs": []
    },
    {
      "cell_type": "markdown",
      "source": [
        "**4c)** In the \"future prism data\", calculate the number of years with average summer temperatures exceeding 14C."
      ],
      "metadata": {
        "id": "nYHbu3LxaDh9"
      }
    },
    {
      "cell_type": "code",
      "source": [
        "# add code here\n",
        "\n"
      ],
      "metadata": {
        "id": "Mv20tf2-aH14"
      },
      "execution_count": null,
      "outputs": []
    },
    {
      "cell_type": "markdown",
      "source": [
        "**4d) Discussion:** Based on your results, how would you say that stream temperature would be affected in the Arkansas River under the SSP3-70 future climate change scenario?"
      ],
      "metadata": {
        "id": "VgYyH8bIUKup"
      }
    },
    {
      "cell_type": "markdown",
      "source": [
        "*add answer here*"
      ],
      "metadata": {
        "id": "NBywffmyUSlm"
      }
    },
    {
      "cell_type": "markdown",
      "source": [
        "While this analysis doesn't give us exact predictions of future stream temperature, it does allow us to understand the potential implications of air temperature changes on stream temperature. If there is a risk of hotter stream temperatures in the future, river restoration efforts might be able to help adapt to these changes by adding vegetation that can shade the river, adding deeper pools where water stays cooler, or by increasing the dissolved oxygen in the stream. Additionally, river recreation policies could be updated to limit fishing on hot days when fish are already stressed."
      ],
      "metadata": {
        "id": "hji6WVYtc9u5"
      }
    },
    {
      "cell_type": "markdown",
      "source": [
        "We could also do a more advanced analysis where we look at how stream temperature relates to other factors like the amount of snowmelt and precipitation during the water year. Years with less water tend to have hotter stream temperatures, because less water heats up more quickly. So, instead of analyzing only air temperature, we could look at how stream temperature would be affected by all of these variables (air temperature, snowmelt, and precipitation) in the future."
      ],
      "metadata": {
        "id": "EsGtlsz0T2fy"
      }
    }
  ]
}