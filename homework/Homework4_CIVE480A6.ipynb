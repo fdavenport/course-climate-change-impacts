{
  "cells": [
    {
      "cell_type": "markdown",
      "metadata": {
        "id": "view-in-github",
        "colab_type": "text"
      },
      "source": [
        "<a href=\"https://colab.research.google.com/github/fdavenport/CIVE480A6-climate-change-impacts/blob/main/homework/Homework4_CIVE480A6.ipynb\" target=\"_parent\"><img src=\"https://colab.research.google.com/assets/colab-badge.svg\" alt=\"Open In Colab\"/></a>"
      ]
    },
    {
      "cell_type": "markdown",
      "id": "7e930493-2f2a-4ba5-865e-8567ecd9bff2",
      "metadata": {
        "id": "7e930493-2f2a-4ba5-865e-8567ecd9bff2"
      },
      "source": [
        "## CIVE480A6 Homework 4\n",
        "\n",
        "**Due:** Thursday, October 31, 2024 at 9:00am\n",
        "\n",
        "\n",
        "**Objectives:**\n",
        "The goal of this homework is to practice different ways of analyzing extreme climate and weather events, including extreme fire weather, extreme precipitation and floods, and extreme hurricane winds.\n",
        "   \n",
        "**Total points for Homework 4: 13 pts**\n",
        "*   Correct answers to Python problems: 9 pts\n",
        "*   Answers to discussion questions: 4 pts\n",
        "\n",
        "**Reminder:** You can work together on the assigment, but answers must be your own work.\n",
        "\n",
        "To turn in your assignment, first open the notebook in Colab. Go under \"File -> Save a copy to Drive\" to save your own copy of this notebook. Now, you can edit the notebook and save your changes to your Google Drive as you work. Once you are done with your assignment and are ready to turn it in, go to \"File -> Download -> Download .ipynb\". To submit the assignment, upload the .ipynb file to the assignment in Canvas."
      ]
    },
    {
      "cell_type": "code",
      "execution_count": null,
      "id": "b09e781e-2bbd-4308-ab2d-84f3eefd624d",
      "metadata": {
        "id": "b09e781e-2bbd-4308-ab2d-84f3eefd624d"
      },
      "outputs": [],
      "source": [
        "## import libraries you will need for the assignment\n",
        "import numpy as np\n",
        "import pandas as pd\n",
        "import math\n",
        "\n",
        "from scipy.stats import genextreme\n",
        "from scipy import stats\n",
        "\n",
        "import matplotlib.pyplot as plt\n",
        "import matplotlib.ticker as mticker"
      ]
    },
    {
      "cell_type": "markdown",
      "id": "6cabd567-9920-417c-9192-f448debd7f71",
      "metadata": {
        "id": "6cabd567-9920-417c-9192-f448debd7f71"
      },
      "source": [
        "## Problem 1 - Extreme Fire Weather\n",
        "\n",
        "Climate scientists often use at a metric called the [Canadian Forest Fire Weather Index](https://cwfis.cfs.nrcan.gc.ca/background/summary/fwi) or \"FWI\" to understand how wildfire risk is changing. The FWI for a given day is calculated based on the temperature, relative humidity of the atmosphere near the ground, the wind speed, and the amount of recent precipitation.\n",
        "\n",
        "<img src=\"https://raw.githubusercontent.com/fdavenport/CIVE480A6-climate-change-impacts/main/homework/img/fwi.png\" width=\"400\">\n",
        "\n",
        "It is very hard to predict when exactly a wildfire will occur, because wildfire ignition is caused by somewhat random occurrences of lightning or human activity. However, if a fire starts when the Fire Weather Index is high, these conditions mean the fire is much more likely to grow quickly and spread. For this reason, FWI is a pretty good indicator of how wildfire risk has changed over time.\n",
        "\n",
        "For this assignment, you will look at historical FWI values near Boulder, CO. This data covers 1980-2018, and the paper describing the original data can be found [here](https://www.nature.com/articles/s41597-020-0554-z). I've uploaded the data for Boulder, CO to the course github at this link:\n"
      ]
    },
    {
      "cell_type": "code",
      "source": [
        "boulder_fwi_url = \"https://raw.githubusercontent.com/fdavenport/CIVE480A6-climate-change-impacts/refs/heads/main/homework/data/boulder_fire_weather_index.csv\""
      ],
      "metadata": {
        "id": "cIvBk1P5Byye"
      },
      "id": "cIvBk1P5Byye",
      "execution_count": null,
      "outputs": []
    },
    {
      "cell_type": "markdown",
      "source": [
        "**1a)** We will consider the threshold for extreme fire weather to be the top 0.5% of fire weather conditions (in other words, the 99.5th percentile). Read in the data and calculate the threshold for extreme fire weather."
      ],
      "metadata": {
        "id": "HWhlpugnCpDD"
      },
      "id": "HWhlpugnCpDD"
    },
    {
      "cell_type": "code",
      "source": [
        "# add code here"
      ],
      "metadata": {
        "id": "4eHvyWCwBPdm"
      },
      "id": "4eHvyWCwBPdm",
      "execution_count": null,
      "outputs": []
    },
    {
      "cell_type": "markdown",
      "source": [
        "**1b)** Now, we will look at the frequency of extreme fire weather days (those above the 99.5th percentile) in each year of the data. Use the following code, adding lines where necessary, to calculate this."
      ],
      "metadata": {
        "id": "YnuZxTUZC9R8"
      },
      "id": "YnuZxTUZC9R8"
    },
    {
      "cell_type": "code",
      "source": [
        "annual_freq = pd.DataFrame(columns = [\"year\", \"extreme_fwi_days\"], index = range(39))\n",
        "\n",
        "for i, yr in enumerate(range(1980, 2019)):\n",
        "  annual_freq.loc[i, \"year\"] = yr #save the year in the summary table\n",
        "\n",
        "  # add code to create a subset of the fwi data for the current year\n",
        "\n",
        "  # add code to check how many days exceeded the 95th percentile\n",
        "\n"
      ],
      "metadata": {
        "id": "KV_k_t6eDL1U"
      },
      "id": "KV_k_t6eDL1U",
      "execution_count": null,
      "outputs": []
    },
    {
      "cell_type": "markdown",
      "source": [
        "Print out the number of extreme fire weather days in 1980 and 2018:"
      ],
      "metadata": {
        "id": "db8wLj8BDMYL"
      },
      "id": "db8wLj8BDMYL"
    },
    {
      "cell_type": "code",
      "source": [
        "# add code here"
      ],
      "metadata": {
        "id": "ogCDtTuWDMNJ"
      },
      "id": "ogCDtTuWDMNJ",
      "execution_count": null,
      "outputs": []
    },
    {
      "cell_type": "markdown",
      "source": [
        "**1c)** Create a time series plot showing the number of extreme fire weather days in each year"
      ],
      "metadata": {
        "id": "Co0aMOU9Ek_h"
      },
      "id": "Co0aMOU9Ek_h"
    },
    {
      "cell_type": "code",
      "source": [
        "fig, ax = plt.subplots()\n",
        "\n",
        "\n",
        "# remember to label your figure"
      ],
      "metadata": {
        "colab": {
          "base_uri": "https://localhost:8080/",
          "height": 435
        },
        "id": "IN3gEa4OCEJw",
        "outputId": "3ab5b137-ca1f-4800-dd2c-f07f96b7a4f1"
      },
      "id": "IN3gEa4OCEJw",
      "execution_count": null,
      "outputs": [
        {
          "output_type": "display_data",
          "data": {
            "text/plain": [
              "<Figure size 640x480 with 1 Axes>"
            ],
            "image/png": "[encoded data removed]"
          },
          "metadata": {}
        }
      ]
    },
    {
      "cell_type": "markdown",
      "source": [
        "**1d)** Calculate the average number of extreme FWI days per year between 1980-1999 and between 2000-2018."
      ],
      "metadata": {
        "id": "-GFJ_kyhExEz"
      },
      "id": "-GFJ_kyhExEz"
    },
    {
      "cell_type": "code",
      "source": [
        "# add code here"
      ],
      "metadata": {
        "id": "OP09wr9VFAv9"
      },
      "id": "OP09wr9VFAv9",
      "execution_count": null,
      "outputs": []
    },
    {
      "cell_type": "markdown",
      "source": [
        "**1e)** Based on this, how much more likely were extreme FWI days in the later period (2000-2018) compared to the early period (1980-1999)?"
      ],
      "metadata": {
        "id": "jguTgzsNFB6C"
      },
      "id": "jguTgzsNFB6C"
    },
    {
      "cell_type": "code",
      "source": [
        "# add code here"
      ],
      "metadata": {
        "id": "AeEZv3BDFCKX"
      },
      "id": "AeEZv3BDFCKX",
      "execution_count": null,
      "outputs": []
    },
    {
      "cell_type": "markdown",
      "source": [
        "**1f)** What year had the maximum number of extreme FWI days? How many days occurred in that year?  "
      ],
      "metadata": {
        "id": "JmYtIss4Frwb"
      },
      "id": "JmYtIss4Frwb"
    },
    {
      "cell_type": "code",
      "source": [
        "# add code here"
      ],
      "metadata": {
        "id": "bweV4jzrGqH1"
      },
      "id": "bweV4jzrGqH1",
      "execution_count": null,
      "outputs": []
    },
    {
      "cell_type": "markdown",
      "source": [
        "**1g)** It turns out that there was a notable fire that occurred near Boulder, CO in the year from 1f. Find and read some information about the fire. Describe the conditions that led to the fire and its spread. Based on your research, was extreme fire weather a contributor?\n"
      ],
      "metadata": {
        "id": "ryzzat4kGqdq"
      },
      "id": "ryzzat4kGqdq"
    },
    {
      "cell_type": "markdown",
      "source": [
        "*add answer here*"
      ],
      "metadata": {
        "id": "CPVXsh2UHC0Q"
      },
      "id": "CPVXsh2UHC0Q"
    },
    {
      "cell_type": "markdown",
      "id": "4f5a8510-b9e0-490d-93de-1030943ce05c",
      "metadata": {
        "id": "4f5a8510-b9e0-490d-93de-1030943ce05c"
      },
      "source": [
        "## Problem 2 - 100-Year Storms and 100-Year Floods\n",
        "\n",
        "For this problem, you will analyze historical precipitation and historical streamflow data to calculate a 100-Year storm event and the 100-Year flood event within the Cache la Poudre watershed near Fort Collins. As we've discussed in class, a 100-year storm does not necessarily lead to a 100-year flood. For this reason, we will analyze both storms and floods, rather than just one or the other."
      ]
    },
    {
      "cell_type": "markdown",
      "source": [
        "**2a)** We will analyze precipitation data from the Fort Collins weather station. The data is available online through the [Colorado Climate Center](https://climate.colostate.edu/data_access_new.html) at CSU. I have already calculated the wettest day in each year from 1960 through 2024 for you to analyze, and stored the data on the github here:"
      ],
      "metadata": {
        "id": "VJTVaAXRa0iQ"
      },
      "id": "VJTVaAXRa0iQ"
    },
    {
      "cell_type": "code",
      "source": [
        "ftc_data_url = \"https://raw.githubusercontent.com/fdavenport/CIVE480A6-climate-change-impacts/refs/heads/main/homework/data/ft_collins_annual_max_P.csv\""
      ],
      "metadata": {
        "id": "G-xXZpp1LVZY"
      },
      "id": "G-xXZpp1LVZY",
      "execution_count": null,
      "outputs": []
    },
    {
      "cell_type": "markdown",
      "source": [
        "Read in the data, and use the genextreme.fit() function to fit a GEV distribution to the data. Report the scale, location, and shape parameters."
      ],
      "metadata": {
        "id": "OE_pNsiTgWsF"
      },
      "id": "OE_pNsiTgWsF"
    },
    {
      "cell_type": "code",
      "source": [
        "# add code here\n",
        "# use as many code blocks as needed"
      ],
      "metadata": {
        "id": "1tBynNZTq5Ht"
      },
      "id": "1tBynNZTq5Ht",
      "execution_count": null,
      "outputs": []
    },
    {
      "cell_type": "markdown",
      "source": [
        "**2b)** Make a figure showing the GEV distribution you calculated in 2a. Add a histogram of the actual data (remember to use density=True so the vertical scales line up)."
      ],
      "metadata": {
        "id": "RVmw9tQBgdS2"
      },
      "id": "RVmw9tQBgdS2"
    },
    {
      "cell_type": "code",
      "source": [
        "fig, ax = plt.subplots()\n",
        "\n",
        "x = np.arange(0.5, 5.5, 0.25) ## plot the distribution over precip values ranging from 0.5 to 5.5 inches\n",
        "\n",
        "## add plotting code here\n",
        "\n",
        "\n",
        "\n",
        "## remember to label your figure"
      ],
      "metadata": {
        "colab": {
          "base_uri": "https://localhost:8080/",
          "height": 435
        },
        "id": "-ezp_yGagdo-",
        "outputId": "3628219b-82ec-4979-dc59-93fbd9f06cc8"
      },
      "id": "-ezp_yGagdo-",
      "execution_count": null,
      "outputs": [
        {
          "output_type": "display_data",
          "data": {
            "text/plain": [
              "<Figure size 640x480 with 1 Axes>"
            ],
            "image/png": "[encoded data removed]"
          },
          "metadata": {}
        }
      ]
    },
    {
      "cell_type": "markdown",
      "source": [
        "**2c)** Create a figure showing the magnitude of different events vs. the return period for the return periods specified below.\n",
        "\n",
        "Use the calc_empirical_return_level() function to calculate the empirical return period for each of the data points and add them to the figure (see notebook from class as an example). The empirical return level refers to how frequently different values in our data were exceeded within the period of record.\n",
        "\n",
        "For example, if we have 65 years of data, the most extreme event in our data has an empirical return period of 65 years because it only occurred once in 65 years. The second most extreme event has an empirical return level of 32.5 years because it was exceeded twice in 65 years.\n"
      ],
      "metadata": {
        "id": "HqAznjQOgiDc"
      },
      "id": "HqAznjQOgiDc"
    },
    {
      "cell_type": "code",
      "source": [
        "return_periods = np.array([1.01, 1.02, 1.05, 1.1, 1.5, 2, 5, 10, 20, 30, 40, 50, 100, 200, 500, 1000])"
      ],
      "metadata": {
        "id": "cAvz0dk3MsQM"
      },
      "id": "cAvz0dk3MsQM",
      "execution_count": null,
      "outputs": []
    },
    {
      "cell_type": "code",
      "source": [
        "# run this code cell\n",
        "\n",
        "def calc_empirical_return_level(data):\n",
        "    \"\"\"\n",
        "    Compute empirical return level\n",
        "    \"\"\"\n",
        "    df = pd.DataFrame(index=np.arange(data.size))\n",
        "    # sort the data\n",
        "    df[\"sorted_value\"] = np.sort(data)[::-1]\n",
        "    # rank via scipy instead to deal with duplicate values\n",
        "    df[\"ranked_value\"] = np.sort(stats.rankdata(-data))\n",
        "    # find exceedence probability\n",
        "    n = data.size\n",
        "    df[\"exceedance\"] = df[\"ranked_value\"] / (n + 1)\n",
        "    # find return period\n",
        "    df[\"return_period\"] = 1 / df[\"exceedance\"]\n",
        "\n",
        "    df = df[::-1]\n",
        "\n",
        "    return df"
      ],
      "metadata": {
        "id": "YCnO9hovM1cR"
      },
      "id": "YCnO9hovM1cR",
      "execution_count": null,
      "outputs": []
    },
    {
      "cell_type": "code",
      "source": [
        "## calculate empirical return periods for your data\n",
        "\n",
        "empirical_rp = calc_empirical_return_level() # add your data variable inside the function"
      ],
      "metadata": {
        "id": "Betsvrs8Ncw5"
      },
      "id": "Betsvrs8Ncw5",
      "execution_count": null,
      "outputs": []
    },
    {
      "cell_type": "code",
      "source": [
        "## create a figure showing the event size vs. return period\n",
        "\n",
        "fig, ax = plt.subplots()\n",
        "\n",
        "## add plotting code here\n",
        "\n",
        "\n",
        "ax.scatter(empirical_rp.return_period, empirical_rp.sorted_value) # this line of code will add the data points to the plot\n",
        "\n",
        "## remember to add axis labels, title, and legend\n",
        "\n",
        "\n",
        "## this code formats the x-axis labels in log scale\n",
        "ax.set_xscale(\"log\")\n",
        "ax.xaxis.set_major_formatter(mticker.ScalarFormatter())\n",
        "ax.ticklabel_format(style='plain', axis='x')"
      ],
      "metadata": {
        "colab": {
          "base_uri": "https://localhost:8080/",
          "height": 435
        },
        "id": "I6PTTNg_jeI_",
        "outputId": "cc732bfb-92c7-4c23-9570-5cef82761e30"
      },
      "id": "I6PTTNg_jeI_",
      "execution_count": null,
      "outputs": [
        {
          "output_type": "display_data",
          "data": {
            "text/plain": [
              "<Figure size 640x480 with 1 Axes>"
            ],
            "image/png": "[encoded data removed]"
          },
          "metadata": {}
        }
      ]
    },
    {
      "cell_type": "markdown",
      "source": [
        "**2d) Discussion:** How well does the curve match the data?"
      ],
      "metadata": {
        "id": "fo87SP-SgpQS"
      },
      "id": "fo87SP-SgpQS"
    },
    {
      "cell_type": "markdown",
      "source": [
        "*add answer here*"
      ],
      "metadata": {
        "id": "uodinztGjcD-"
      },
      "id": "uodinztGjcD-"
    },
    {
      "cell_type": "markdown",
      "source": [
        "**2e)** What is the 50-year, 100-year, and 500-year storm event?  "
      ],
      "metadata": {
        "id": "5dbMGLWigstl"
      },
      "id": "5dbMGLWigstl"
    },
    {
      "cell_type": "code",
      "source": [
        "## add code here\n",
        "\n"
      ],
      "metadata": {
        "id": "IwuVixQRjaek"
      },
      "id": "IwuVixQRjaek",
      "execution_count": null,
      "outputs": []
    },
    {
      "cell_type": "markdown",
      "source": [
        "As we've discussed in class, climate change is leading to more extreme precipitation. **This means that the 100-year event we calculate from historical data may not be accurate to assess future risk.**\n",
        "\n",
        "We know from the Clausius-Clapeyron equation that warmer air can hold more water vapor. For example, a 1C increase in temperature leads to about a 6.6% increase in the amount of water vapor. Research has shown that we should expect extreme precipitation to increase by at least the same amount (some research suggests that extreme precipitation will increase at an even faster rate than what the Clausius-Clapeyron equation predicts). Either way, the Clausius-Clapeyron equation gives a good lower bound for future extreme precipitation changes. Based on this reasoning, we can calculate what the 50-year, 100-year, and 500-year events would look like under different levels of global warming.\n",
        "\n"
      ],
      "metadata": {
        "id": "pLx6uwR4fJTk"
      },
      "id": "pLx6uwR4fJTk"
    },
    {
      "cell_type": "markdown",
      "source": [
        "**2f)** The calc_water_vapor_change() function below calculates the percent change in water vapor associated with a certain amount of global warming (in degrees celsius). Use this function to calculate the percent increase in atmospheric water vapor expected by 2100 under [three different global warming scenarios](https://www.carbonbrief.org/explainer-how-shared-socioeconomic-pathways-explore-future-climate-change/):\n",
        "\n",
        "*   SSP1-2.6: 1.8C of warming by 2100\n",
        "*   SSP2-4.5: 2.7C of warming by 2100\n",
        "*   SSP5-8.5: 4.4C of warming by 2100\n"
      ],
      "metadata": {
        "id": "Le1sGs3qg3Q_"
      },
      "id": "Le1sGs3qg3Q_"
    },
    {
      "cell_type": "code",
      "source": [
        "def calc_water_vapor_change(temp_change):\n",
        "  ''' temp_change = change in temperature in deg C\n",
        "  function returns the percent change in saturation vapor pressure '''\n",
        "\n",
        "  t_old = 13 # assumes historical global temp is 13C\n",
        "  t_new = t_old+temp_change\n",
        "  es_old = 0.61078*math.exp((17.27*t_old)/(t_old+237.3))\n",
        "  es_new = 0.61078*math.exp((17.27*t_new)/(t_new+237.3))\n",
        "  return (t_new - t_old)/t_old*100"
      ],
      "metadata": {
        "id": "72NRS961oeCH"
      },
      "id": "72NRS961oeCH",
      "execution_count": null,
      "outputs": []
    },
    {
      "cell_type": "code",
      "source": [
        "# calculate expected change in atmospheric water vapor pressure for the different future climate scenarios above\n",
        "\n"
      ],
      "metadata": {
        "id": "BSsZrEVLpPQw"
      },
      "id": "BSsZrEVLpPQw",
      "execution_count": null,
      "outputs": []
    },
    {
      "cell_type": "markdown",
      "source": [
        "**2g)** Multiply your 50-year, 100-year, and 500-year storm events by these values to calculate the 50-year, 100-year, and 500-year storm values under different climate change scenarios:\n"
      ],
      "metadata": {
        "id": "f28hetZZhLNz"
      },
      "id": "f28hetZZhLNz"
    },
    {
      "cell_type": "code",
      "source": [
        "# add code here\n"
      ],
      "metadata": {
        "id": "Gkz7FXlkpsN2"
      },
      "id": "Gkz7FXlkpsN2",
      "execution_count": null,
      "outputs": []
    },
    {
      "cell_type": "markdown",
      "source": [
        "**2h)** Now, you will analyze historical streamflow data for the [USGS Streamgage #06752260 for the Cache La Poudre River](https://nwis.waterdata.usgs.gov/co/nwis/inventory/?site_no=06752260&agency_cd=USGS) in Fort Collins. Conveniently, the USGS already calculates the annual maximum streamflow (in cubic feet per second) in each water year to make it easy to perform flood frequency analysis. The data is uploaded to the github here:"
      ],
      "metadata": {
        "id": "KG4TzlCOhf3J"
      },
      "id": "KG4TzlCOhf3J"
    },
    {
      "cell_type": "code",
      "source": [
        "poudre_data_url =  \"https://raw.githubusercontent.com/fdavenport/CIVE480A6-climate-change-impacts/refs/heads/main/homework/data/poudre_peak_flows.csv\""
      ],
      "metadata": {
        "id": "XYQqt2tzOU-6"
      },
      "id": "XYQqt2tzOU-6",
      "execution_count": null,
      "outputs": []
    },
    {
      "cell_type": "markdown",
      "source": [
        "Read in the data, and fit a GEV distribution. Report the shape, location, and scale parameters:"
      ],
      "metadata": {
        "id": "qcySPtKYhr_a"
      },
      "id": "qcySPtKYhr_a"
    },
    {
      "cell_type": "code",
      "source": [
        "# add code here"
      ],
      "metadata": {
        "id": "QhKwADc1OT5z"
      },
      "id": "QhKwADc1OT5z",
      "execution_count": null,
      "outputs": []
    },
    {
      "cell_type": "markdown",
      "source": [
        "**2i)** Make a figure showing the GEV distribution you calculated in 2h. Add a histogram of the actual data (remember to use density=True so the vertical scales line up)."
      ],
      "metadata": {
        "id": "SgZlrlEkhzLe"
      },
      "id": "SgZlrlEkhzLe"
    },
    {
      "cell_type": "code",
      "source": [
        "fig, ax = plt.subplots()\n",
        "\n",
        "x = np.arange(0, 100, 1) ## plot the distribution over windspeed values ranging from 0 to over 100m/s\n",
        "\n",
        "## add plotting code here\n",
        "\n",
        "\n",
        "## remember to label your figure"
      ],
      "metadata": {
        "id": "8mmgOQwsr0iy"
      },
      "id": "8mmgOQwsr0iy",
      "execution_count": null,
      "outputs": []
    },
    {
      "cell_type": "markdown",
      "source": [
        "**2j)** What is the 100-year, 200-year, 500-year and 1000-year event?"
      ],
      "metadata": {
        "id": "QbGdYqgcrz5P"
      },
      "id": "QbGdYqgcrz5P"
    },
    {
      "cell_type": "code",
      "source": [
        "# add code here"
      ],
      "metadata": {
        "id": "f0j4Aj4jsw4E"
      },
      "id": "f0j4Aj4jsw4E",
      "execution_count": null,
      "outputs": []
    },
    {
      "cell_type": "markdown",
      "source": [
        "**2k)** Because there isn't a direct correspondence between the 100-year storm and the 100-year flood, we can't assume that the 100-year flood will change by the same percentages. One way we could plan for more extreme floods in the future is to design for a higher return period event (such as the 200-year, 500-year, or 1000-year flood) instead of the 100-year flood.\n",
        "\n",
        "To put this in perspective with changes in extreme precipitation, how much of an percent increase are the 200-year, 500-year, and 1000-year flood events compared to the 100-year flood event?"
      ],
      "metadata": {
        "id": "vDVWja3YiKg2"
      },
      "id": "vDVWja3YiKg2"
    },
    {
      "cell_type": "code",
      "source": [
        "# add code here"
      ],
      "metadata": {
        "id": "ZVTeAVKqj8oR"
      },
      "id": "ZVTeAVKqj8oR",
      "execution_count": null,
      "outputs": []
    },
    {
      "cell_type": "markdown",
      "source": [
        "**2l) Discussion:** Theoretically, we could design infrastructure to withstand the most extreme events imaginable (something like the 10,000 year event or even greater). Infrastructure built to these standards would likely be quite resilient to climate change. However, think back to earlier in the semester when we discussed cost-benefit analyses of climate adaptation. What might be some downsides over preparing for events that have a very very low probability of occurrence?"
      ],
      "metadata": {
        "id": "8xUhC1Awj9u_"
      },
      "id": "8xUhC1Awj9u_"
    },
    {
      "cell_type": "markdown",
      "source": [
        "*add your answer here*"
      ],
      "metadata": {
        "id": "L9c8nN5MmMuk"
      },
      "id": "L9c8nN5MmMuk"
    },
    {
      "cell_type": "markdown",
      "source": [
        "## Problem 3 - Extreme Hurricane Winds\n",
        "\n",
        "For this problem, you will analyze hurricane wind data for Mobile, Alabama. The data for this homework problem comes from research conducted by [Professor Yanlin Guo](https://www.engr.colostate.edu/~yanlin/) and her graduate students in the CEE Department at CSU.\n",
        "\n",
        "The hurricane wind data was created by computer models that simulate how hurricane wind speeds in Mobile, AL will change with climate change. There are two simulations - one that models hurricane winds in the present climate (Year 2015), and one that models hurricane wind speeds in Year 2100 assuming the future climate scenario \"Shared Socioeconomic Pathway 2-4.5\" (SSP2-4.5). As we saw in problem 2, SSP2-4.5 is a \"middle of the road\" future climate scenario with about 2.7C of global warming by 2100.\n",
        "\n",
        "There is one data file for each simulation:\n",
        "\n",
        "*   hurricane_winds_2015.csv\n",
        "*   hurricane_winds_2100.csv\n",
        "\n",
        "Each data point in the file is the annual maximum hurricane wind speed (in m/s) at the center of Mobile, AL. Each simulation was conducted for 20,000 years. However, not every year has a hurricane, so there are only about ~9,000 years with data for each file. The data files are stored at the following urls:\n"
      ],
      "metadata": {
        "id": "cs0xDgJWHWV1"
      },
      "id": "cs0xDgJWHWV1"
    },
    {
      "cell_type": "code",
      "source": [
        "hurricane_wind_2015_url = \"https://raw.githubusercontent.com/fdavenport/CIVE480A6-climate-change-impacts/refs/heads/main/homework/data/hurricane_winds_2015_Mobile-AL.csv\"\n",
        "hurricane_wind_2100_url = \"https://raw.githubusercontent.com/fdavenport/CIVE480A6-climate-change-impacts/refs/heads/main/homework/data/hurricane_winds_2100_Mobile-AL.csv\""
      ],
      "metadata": {
        "id": "weh4N3NlHaYH"
      },
      "id": "weh4N3NlHaYH",
      "execution_count": null,
      "outputs": []
    },
    {
      "cell_type": "code",
      "source": [
        "## read in the data\n"
      ],
      "metadata": {
        "id": "z1Vle4kDS3bX"
      },
      "id": "z1Vle4kDS3bX",
      "execution_count": null,
      "outputs": []
    },
    {
      "cell_type": "markdown",
      "source": [
        "**3a)** Add code to create two side by side histograms of the annual maximum wind speed in Mobile, AL. On the left, show the histogram for the simulation under the present (Year 2015) climate, and on the right show the histogram for the simulation under the Year 2100 climate."
      ],
      "metadata": {
        "id": "zmsyenZQM63P"
      },
      "id": "zmsyenZQM63P"
    },
    {
      "cell_type": "code",
      "source": [
        "fig, axes = plt.subplots(1, 2, figsize = (12, 5))\n",
        "\n",
        "\n",
        "## add plotting code here\n",
        "\n"
      ],
      "metadata": {
        "colab": {
          "base_uri": "https://localhost:8080/",
          "height": 451
        },
        "id": "pPpxw9MGHZaG",
        "outputId": "8d5ebec7-ea0a-4d3a-d23a-b98bbc4fe5af"
      },
      "id": "pPpxw9MGHZaG",
      "execution_count": null,
      "outputs": [
        {
          "output_type": "display_data",
          "data": {
            "text/plain": [
              "<Figure size 1200x500 with 2 Axes>"
            ],
            "image/png": "[encoded data removed]"
          },
          "metadata": {}
        }
      ]
    },
    {
      "cell_type": "markdown",
      "source": [
        "**3b)** Use the genextreme.fit() function to fit a GEV distribution for the 2015 data. Report the shape, location, and scale parameters.\n",
        "\n"
      ],
      "metadata": {
        "id": "8pFTiOWmNbrm"
      },
      "id": "8pFTiOWmNbrm"
    },
    {
      "cell_type": "code",
      "source": [
        "## fit GEV distribution for 2015 data\n",
        "\n"
      ],
      "metadata": {
        "id": "nOv2swDlNxoy"
      },
      "id": "nOv2swDlNxoy",
      "execution_count": null,
      "outputs": []
    },
    {
      "cell_type": "markdown",
      "source": [
        "**3c)** Use the genextreme.fit() function to fit a GEV distribution for the 2100 data. Report the shape, location, and scale parameters."
      ],
      "metadata": {
        "id": "Q4Yub-5lNw6Y"
      },
      "id": "Q4Yub-5lNw6Y"
    },
    {
      "cell_type": "code",
      "source": [
        "## fit GEV distribution for 2100 data\n",
        "\n"
      ],
      "metadata": {
        "id": "RIH9f7PNNURZ"
      },
      "id": "RIH9f7PNNURZ",
      "execution_count": null,
      "outputs": []
    },
    {
      "cell_type": "markdown",
      "source": [
        "**3d)** Create a plot showing the GEV distributions for both time periods. You will need to use the genextreme.pdf() to calculate the pdf probabilities. Plot both distributions on the same figure so that you can more easily compare how they differ."
      ],
      "metadata": {
        "id": "nFeP5njoP0CV"
      },
      "id": "nFeP5njoP0CV"
    },
    {
      "cell_type": "code",
      "source": [
        "## create figure showing GEV distribution for 2015 data and 2100 data\n",
        "\n",
        "fig, ax = plt.subplots()\n",
        "\n",
        "x = np.arange(0, 100, 1) ## plot the distribution over windspeed values ranging from 0 to over 100m/s\n",
        "\n",
        "\n",
        "## add plotting code here\n",
        "\n",
        "\n",
        "\n",
        "\n",
        "\n",
        "# remember to add axis labels, a title, and legend"
      ],
      "metadata": {
        "colab": {
          "base_uri": "https://localhost:8080/",
          "height": 435
        },
        "id": "sciIywCyQBlS",
        "outputId": "e0ff3bb5-f6e7-4620-f87a-993433978e42"
      },
      "id": "sciIywCyQBlS",
      "execution_count": null,
      "outputs": [
        {
          "output_type": "display_data",
          "data": {
            "text/plain": [
              "<Figure size 640x480 with 1 Axes>"
            ],
            "image/png": "[encoded data removed]"
          },
          "metadata": {}
        }
      ]
    },
    {
      "cell_type": "markdown",
      "source": [
        "**3e) Discussion:** How are the two distributions similar and/or different?"
      ],
      "metadata": {
        "id": "yFe8lXdbQZ1_"
      },
      "id": "yFe8lXdbQZ1_"
    },
    {
      "cell_type": "markdown",
      "source": [
        "*add answer here*"
      ],
      "metadata": {
        "id": "3RIqyLX-YL-1"
      },
      "id": "3RIqyLX-YL-1"
    },
    {
      "cell_type": "markdown",
      "source": [
        "**3f)** The code below lists return periods ranging from 1.1 years to 5,000 years. Use the genextreme.isf() function to calculate the magnitude of extreme hurricane wind events for each return period in the present climate and in 2100. Print out your results\n"
      ],
      "metadata": {
        "id": "PmpOezDvN6ry"
      },
      "id": "PmpOezDvN6ry"
    },
    {
      "cell_type": "code",
      "source": [
        "return_periods = np.array([2, 5, 10, 20, 30, 40, 50, 100, 200, 500, 1000])"
      ],
      "metadata": {
        "id": "R9tIrPsJOpA-"
      },
      "id": "R9tIrPsJOpA-",
      "execution_count": null,
      "outputs": []
    },
    {
      "cell_type": "code",
      "source": [
        "## add code here\n",
        "## use as many code blocks as needed\n",
        "\n"
      ],
      "metadata": {
        "id": "mi4PQZ3VUAU2"
      },
      "id": "mi4PQZ3VUAU2",
      "execution_count": null,
      "outputs": []
    },
    {
      "cell_type": "markdown",
      "source": [
        "Make a figure showing the size of the event vs. the return period for each climate. Show both distributions on the same figure to make it easier to compare:"
      ],
      "metadata": {
        "id": "sj7Wp3tIQuPs"
      },
      "id": "sj7Wp3tIQuPs"
    },
    {
      "cell_type": "code",
      "source": [
        "## create figure showing the event size vs. return period\n",
        "## show one line for 2015 and one line for 2100\n",
        "\n",
        "fig, ax = plt.subplots()\n",
        "\n",
        "## add plotting code here\n",
        "\n",
        "\n",
        "\n",
        "## remember to add axis labels, title, and legend\n",
        "\n",
        "\n",
        "## this code formats the x-axis labels in log scale\n",
        "ax.set_xscale(\"log\")\n",
        "ax.xaxis.set_major_formatter(mticker.ScalarFormatter())\n",
        "ax.ticklabel_format(style='plain', axis='x')"
      ],
      "metadata": {
        "colab": {
          "base_uri": "https://localhost:8080/",
          "height": 435
        },
        "id": "kexSheRJOo4J",
        "outputId": "cee2fbf5-84be-4fd9-e975-16a04b75cefc"
      },
      "id": "kexSheRJOo4J",
      "execution_count": null,
      "outputs": [
        {
          "output_type": "display_data",
          "data": {
            "text/plain": [
              "<Figure size 640x480 with 1 Axes>"
            ],
            "image/png": "[encoded data removed]"
          },
          "metadata": {}
        }
      ]
    },
    {
      "cell_type": "markdown",
      "source": [
        "**3g)** Calculate the percent change in the event size between 2100 and 2015 for each return period. (For example, what is the percent change in the 1.01 year event between 2015 and 2100?). Print out your results.\n"
      ],
      "metadata": {
        "id": "FQFSJmqiOoZY"
      },
      "id": "FQFSJmqiOoZY"
    },
    {
      "cell_type": "code",
      "source": [
        "## add code here\n",
        "\n"
      ],
      "metadata": {
        "id": "JlX258n1PKy6"
      },
      "id": "JlX258n1PKy6",
      "execution_count": null,
      "outputs": []
    },
    {
      "cell_type": "markdown",
      "source": [
        "Make a figure showing the return period on the x-axis and the percent change on the y-axis:"
      ],
      "metadata": {
        "id": "nOJrM-0NRLO9"
      },
      "id": "nOJrM-0NRLO9"
    },
    {
      "cell_type": "code",
      "source": [
        "## create a figure showing the percent change in the event size from 2015 to 2100 for each return period\n",
        "\n",
        "fig, ax = plt.subplots()\n",
        "\n",
        "\n",
        "\n",
        "## add plotting code here\n",
        "\n"
      ],
      "metadata": {
        "colab": {
          "base_uri": "https://localhost:8080/",
          "height": 435
        },
        "id": "tJeQsFFiQTgQ",
        "outputId": "52405134-158a-46e0-ef82-272691d9177c"
      },
      "id": "tJeQsFFiQTgQ",
      "execution_count": null,
      "outputs": [
        {
          "output_type": "display_data",
          "data": {
            "text/plain": [
              "<Figure size 640x480 with 1 Axes>"
            ],
            "image/png": "[encoded data removed]"
          },
          "metadata": {}
        }
      ]
    },
    {
      "cell_type": "markdown",
      "source": [
        "**3h) Discussion:** Do the wind speeds increase or decrease in the future simulation compared to the present? By what approximate percent change?\n"
      ],
      "metadata": {
        "id": "gqSdoFBaUsQP"
      },
      "id": "gqSdoFBaUsQP"
    },
    {
      "cell_type": "markdown",
      "source": [
        "*add answer here*"
      ],
      "metadata": {
        "id": "eN_MUghBYgU9"
      },
      "id": "eN_MUghBYgU9"
    },
    {
      "cell_type": "markdown",
      "source": [
        "**3i) Discussion:** Why does climate change cause hurricane wind speeds to change? (You can base this off what we discuss in class, or do your own supplemental reading to answer this question)\n"
      ],
      "metadata": {
        "id": "qxI9_TSRWTsg"
      },
      "id": "qxI9_TSRWTsg"
    },
    {
      "cell_type": "markdown",
      "source": [
        "*add answer here*"
      ],
      "metadata": {
        "id": "BY1i1BlFYhQc"
      },
      "id": "BY1i1BlFYhQc"
    }
  ],
  "metadata": {
    "kernelspec": {
      "display_name": "Python 3 (ipykernel)",
      "language": "python",
      "name": "python3"
    },
    "language_info": {
      "codemirror_mode": {
        "name": "ipython",
        "version": 3
      },
      "file_extension": ".py",
      "mimetype": "text/x-python",
      "name": "python",
      "nbconvert_exporter": "python",
      "pygments_lexer": "ipython3",
      "version": "3.12.5"
    },
    "colab": {
      "provenance": [],
      "include_colab_link": true
    }
  },
  "nbformat": 4,
  "nbformat_minor": 5
}